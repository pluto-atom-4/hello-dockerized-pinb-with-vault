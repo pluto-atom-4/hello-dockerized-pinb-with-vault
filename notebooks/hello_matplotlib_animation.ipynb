{
  "cells": [
    {
      "cell_type": "code",
      "execution_count": null,
      "outputs": [],
      "source": "import numpy as np\nimport matplotlib.pyplot as plt\nfrom matplotlib import animation, rc\nfrom IPython.display import HTML\n\n# animate over some set of x, y\nx \u003d np.linspace(-4, 4, 100)\ny \u003d np.sin(x)\n\n# First set up the figure, the axes, and the plot element\nfig, ax \u003d plt.subplots()\nplt.close()\nax.set_xlim(( -4, 4))\nax.set_ylim((-2, 2))\nline1, \u003d ax.plot([], [], lw\u003d2)\nline2, \u003d ax.plot([], [], lw\u003d2)\n\n# initialization function: plot the background of each frame\ndef init():\n    line1.set_data(x, y)      \n    return (line1,)\n\n# animation function: this is called sequentially\ndef animate(i):\n  at_x \u003d x[i]\n  \n  # gradient_line will have the form m*x + b\n  m \u003d np.cos(at_x)\n  b \u003d np.sin(at_x) - np.cos(at_x)*at_x\n  gradient_line \u003d m*x + b\n  \n  line2.set_data(x, gradient_line)\n  return (line2,)\n\nanim \u003d animation.FuncAnimation(fig, animate, init_func\u003dinit, frames\u003d100, interval\u003d100, blit\u003dTrue)\nrc(\u0027animation\u0027, html\u003d\u0027jshtml\u0027)\nanim\n",
      "metadata": {
        "pycharm": {
          "metadata": false,
          "name": "#%%\n"
        }
      }
    }
  ],
  "metadata": {
    "language_info": {
      "codemirror_mode": {
        "name": "ipython",
        "version": 2
      },
      "file_extension": ".py",
      "mimetype": "text/x-python",
      "name": "python",
      "nbconvert_exporter": "python",
      "pygments_lexer": "ipython2",
      "version": "2.7.6"
    },
    "kernelspec": {
      "name": "pycharm-80906557",
      "language": "python",
      "display_name": "PyCharm (hello-dockerized-pinb-with-vault)"
    },
    "stem_cell": {
      "cell_type": "raw",
      "source": "",
      "metadata": {
        "pycharm": {
          "metadata": false
        }
      }
    }
  },
  "nbformat": 4,
  "nbformat_minor": 0
}